{
 "cells": [
  {
   "cell_type": "markdown",
   "id": "distributed-fever",
   "metadata": {},
   "source": [
    "# <b>TRACKING APIS IN OPENCV"
   ]
  },
  {
   "cell_type": "code",
   "execution_count": 1,
   "id": "french-attempt",
   "metadata": {},
   "outputs": [],
   "source": [
    "import cv2"
   ]
  },
  {
   "cell_type": "markdown",
   "id": "liberal-corpus",
   "metadata": {},
   "source": [
    "## Function to generate live camera feed and show resultant tracking"
   ]
  },
  {
   "cell_type": "code",
   "execution_count": 2,
   "id": "enhanced-violation",
   "metadata": {},
   "outputs": [],
   "source": [
    "def live_feed(tracker, tracker_text): \n",
    "    cap = cv2.VideoCapture(0) # 0 for default camera/webcam\n",
    "\n",
    "    ret, frame = cap.read()\n",
    "\n",
    "    roi = cv2.selectROI(windowName='ROI Selector', img=frame, fromCenter=False)\n",
    "    \n",
    "    tracker.init(frame, roi)\n",
    "\n",
    "    while True:\n",
    "        ret, frame = cap.read() # Read a new frame\n",
    "\n",
    "        status, roi = tracker.update(frame) # Update tracker with each frame in loop\n",
    "\n",
    "        (x, y, w, h) = tuple(map(int,roi)) # Creating a tuple with all 4 roi variables(float) as int\n",
    "\n",
    "        if status:\n",
    "            cv2.rectangle(frame, (x, y), (x+w, y+h), (0,255,0), 3) # To draw a rectangle corresponding to the motion in the tracker\n",
    "\n",
    "        cv2.putText(frame, tracker_text, (20, 40), cv2.FONT_HERSHEY_SIMPLEX, 1, (0,0,255),3) # To display text on the window\n",
    "\n",
    "        cv2.imshow('Tracker', frame) # Resultant tracking window\n",
    "\n",
    "        k = cv2.waitKey(1) & 0xff # pressing 'esc' key to break the loop\n",
    "        if k == 27 : \n",
    "            break\n",
    "\n",
    "    cap.release()\n",
    "    cv2.destroyAllWindows()"
   ]
  },
  {
   "cell_type": "markdown",
   "id": "tribal-spice",
   "metadata": {},
   "source": [
    "### <b>BOOSTING TRACKER\n",
    "\n",
    "### - Based off on the ADA boost algorithm (similar to HAAR cascades).\n",
    "### - Evaluation occurs across multiple frames.\n",
    "### - This tracker is slow and doesn’t work very well. "
   ]
  },
  {
   "cell_type": "code",
   "execution_count": 4,
   "id": "concrete-vegetation",
   "metadata": {},
   "outputs": [],
   "source": [
    "tracker_type = cv2.TrackerBoosting_create()\n",
    "text = 'Boosting Tracker'\n",
    "\n",
    "live_feed(tracker_type, text)"
   ]
  },
  {
   "cell_type": "markdown",
   "id": "average-chapter",
   "metadata": {},
   "source": [
    "### <b>MIL (MULTIPLE INSTANCE LEARNING) TRACKER\n",
    "\n",
    "### - Similar to Boosting.\n",
    "### - It considers a neighborhood of points around the current location to create multiple instances."
   ]
  },
  {
   "cell_type": "code",
   "execution_count": 5,
   "id": "criminal-cosmetic",
   "metadata": {},
   "outputs": [],
   "source": [
    "tracker_type = cv2.TrackerMIL_create()\n",
    "text = 'MIL Tracker'\n",
    "\n",
    "live_feed(tracker_type, text)"
   ]
  },
  {
   "cell_type": "markdown",
   "id": "cooked-toolbox",
   "metadata": {},
   "source": [
    "### <b>KCF (KERNALIZED CORRELATION FILTERS) TRACKER\n",
    "\n",
    "### - Exploits some properties of MIL.\n",
    "### - Works on the point that many data points will overlap leading to more accurate and faster tracking."
   ]
  },
  {
   "cell_type": "code",
   "execution_count": 6,
   "id": "extra-million",
   "metadata": {},
   "outputs": [],
   "source": [
    "tracker_type = cv2.TrackerKCF_create()\n",
    "text = 'KCF Tracker'\n",
    "\n",
    "live_feed(tracker_type, text)"
   ]
  },
  {
   "cell_type": "markdown",
   "id": "atmospheric-riding",
   "metadata": {},
   "source": [
    "### <b>TLD (TRACKING, LEARNING, AND DETECTION) TRACKER\n",
    "\n",
    "### - Tracker follows object from frame to frame.\n",
    "### - Detector localizes all appearances that have been observed so far and corrects the tracker if necessary."
   ]
  },
  {
   "cell_type": "code",
   "execution_count": 10,
   "id": "narrow-pressure",
   "metadata": {},
   "outputs": [],
   "source": [
    "tracker_type = cv2.TrackerTLD_create()\n",
    "text = 'TLD Tracker'\n",
    "\n",
    "live_feed(tracker_type, text)"
   ]
  },
  {
   "cell_type": "markdown",
   "id": "increased-voltage",
   "metadata": {},
   "source": [
    "### <b>MEDIAN FLOW TRACKER\n",
    "\n",
    "### - Tracks object in both forward and backward directions in time.\n",
    "### - It measures the discrepency between these two trajectories."
   ]
  },
  {
   "cell_type": "code",
   "execution_count": 8,
   "id": "extended-invention",
   "metadata": {},
   "outputs": [],
   "source": [
    "tracker_type = cv2.TrackerMedianFlow_create()\n",
    "text = 'Median Flow Tracker'\n",
    "\n",
    "live_feed(tracker_type, text)"
   ]
  },
  {
   "cell_type": "code",
   "execution_count": null,
   "id": "expired-houston",
   "metadata": {},
   "outputs": [],
   "source": []
  }
 ],
 "metadata": {
  "kernelspec": {
   "display_name": "Python 3",
   "language": "python",
   "name": "python3"
  },
  "language_info": {
   "codemirror_mode": {
    "name": "ipython",
    "version": 3
   },
   "file_extension": ".py",
   "mimetype": "text/x-python",
   "name": "python",
   "nbconvert_exporter": "python",
   "pygments_lexer": "ipython3",
   "version": "3.6.6"
  }
 },
 "nbformat": 4,
 "nbformat_minor": 5
}
