{
 "cells": [
  {
   "cell_type": "markdown",
   "id": "automotive-publicity",
   "metadata": {},
   "source": [
    "# <b>BITWISE OPERATIONS IN OPENCV</b>"
   ]
  },
  {
   "cell_type": "markdown",
   "id": "secret-nickel",
   "metadata": {},
   "source": [
    "# Making the necessary imports"
   ]
  },
  {
   "cell_type": "code",
   "execution_count": 1,
   "id": "breathing-contractor",
   "metadata": {},
   "outputs": [],
   "source": [
    "import cv2\n",
    "import numpy as np\n",
    "import matplotlib.pyplot as plt\n",
    "%matplotlib inline"
   ]
  },
  {
   "cell_type": "markdown",
   "id": "behind-philadelphia",
   "metadata": {},
   "source": [
    "# Creating binary images with shapes to demonstrate the operations"
   ]
  },
  {
   "cell_type": "markdown",
   "id": "amended-leisure",
   "metadata": {},
   "source": [
    "### Shape1 has a square drawn towards the top left corner of the image"
   ]
  },
  {
   "cell_type": "code",
   "execution_count": 2,
   "id": "northern-netscape",
   "metadata": {},
   "outputs": [
    {
     "data": {
      "text/plain": [
       "<matplotlib.image.AxesImage at 0x7fc8f1fd6e48>"
      ]
     },
     "execution_count": 2,
     "metadata": {},
     "output_type": "execute_result"
    },
    {
     "data": {
      "image/png": "[encoded data removed]",
      "text/plain": [
       "<Figure size 432x288 with 1 Axes>"
      ]
     },
     "metadata": {
      "needs_background": "light"
     },
     "output_type": "display_data"
    }
   ],
   "source": [
    "shape1 = np.zeros((500, 500), dtype=\"uint8\")\n",
    "cv2.rectangle(shape1, (50, 50), (350, 350), 255, -1)\n",
    "plt.imshow(shape1, cmap='gray')"
   ]
  },
  {
   "cell_type": "markdown",
   "id": "labeled-development",
   "metadata": {},
   "source": [
    "### Shape2 has a square drawn towards the bottom right corner of the image"
   ]
  },
  {
   "cell_type": "code",
   "execution_count": 3,
   "id": "addressed-spelling",
   "metadata": {},
   "outputs": [
    {
     "data": {
      "text/plain": [
       "<matplotlib.image.AxesImage at 0x7fc8f1f6f128>"
      ]
     },
     "execution_count": 3,
     "metadata": {},
     "output_type": "execute_result"
    },
    {
     "data": {
      "image/png": "[encoded data removed]",
      "text/plain": [
       "<Figure size 432x288 with 1 Axes>"
      ]
     },
     "metadata": {
      "needs_background": "light"
     },
     "output_type": "display_data"
    }
   ],
   "source": [
    "shape2 = np.zeros((500, 500), dtype=\"uint8\")\n",
    "cv2.rectangle(shape2, (150, 150), (450, 450), 255, -1)\n",
    "plt.imshow(shape2, cmap='gray')"
   ]
  },
  {
   "cell_type": "markdown",
   "id": "quantitative-hunger",
   "metadata": {},
   "source": [
    "# Performing bitwise AND operation\n",
    "\n",
    "### OpenCV's `cv2.bitwise_and()` performs this operation between the 2 image arrays where a value is set to True if and only if both pixels are greater than zero."
   ]
  },
  {
   "cell_type": "code",
   "execution_count": 4,
   "id": "pretty-fiction",
   "metadata": {},
   "outputs": [
    {
     "data": {
      "text/plain": [
       "<matplotlib.image.AxesImage at 0x7fc8f1f45ef0>"
      ]
     },
     "execution_count": 4,
     "metadata": {},
     "output_type": "execute_result"
    },
    {
     "data": {
      "image/png": "[encoded data removed]",
      "text/plain": [
       "<Figure size 432x288 with 1 Axes>"
      ]
     },
     "metadata": {
      "needs_background": "light"
     },
     "output_type": "display_data"
    }
   ],
   "source": [
    "shapesAnd = cv2.bitwise_and(shape1, shape2)\n",
    "plt.imshow(shapesAnd, cmap='gray')"
   ]
  },
  {
   "cell_type": "markdown",
   "id": "confidential-creativity",
   "metadata": {},
   "source": [
    "# Performing bitwise OR operation\n",
    "\n",
    "### OpenCV's `cv2.bitwise_or()` performs this operation between the 2 image arrays where a value is set to True if either of the two pixels is greater than zero"
   ]
  },
  {
   "cell_type": "code",
   "execution_count": 5,
   "id": "artificial-alignment",
   "metadata": {},
   "outputs": [
    {
     "data": {
      "text/plain": [
       "<matplotlib.image.AxesImage at 0x7fc8f1e99828>"
      ]
     },
     "execution_count": 5,
     "metadata": {},
     "output_type": "execute_result"
    },
    {
     "data": {
      "image/png": "[encoded data removed]",
      "text/plain": [
       "<Figure size 432x288 with 1 Axes>"
      ]
     },
     "metadata": {
      "needs_background": "light"
     },
     "output_type": "display_data"
    }
   ],
   "source": [
    "shapesOr = cv2.bitwise_or(shape1, shape2)\n",
    "plt.imshow(shapesOr, cmap='gray')"
   ]
  },
  {
   "cell_type": "markdown",
   "id": "middle-passage",
   "metadata": {},
   "source": [
    "# Performing bitwise XOR operation\n",
    "\n",
    "### OpenCV's `cv2.bitwise_or()` performs this operation between the 2 image arrays where a value is set to True if and only if one of the two pixels is greater than zero, but not both."
   ]
  },
  {
   "cell_type": "code",
   "execution_count": 6,
   "id": "terminal-chain",
   "metadata": {},
   "outputs": [
    {
     "data": {
      "text/plain": [
       "<matplotlib.image.AxesImage at 0x7fc8f1e73080>"
      ]
     },
     "execution_count": 6,
     "metadata": {},
     "output_type": "execute_result"
    },
    {
     "data": {
      "image/png": "[encoded data removed]",
      "text/plain": [
       "<Figure size 432x288 with 1 Axes>"
      ]
     },
     "metadata": {
      "needs_background": "light"
     },
     "output_type": "display_data"
    }
   ],
   "source": [
    "shapesXor = cv2.bitwise_xor(shape1, shape2)\n",
    "plt.imshow(shapesXor, cmap='gray')"
   ]
  },
  {
   "cell_type": "markdown",
   "id": "optional-stomach",
   "metadata": {},
   "source": [
    "# Performing bitwise NOT operation\n",
    "\n",
    "### OpenCV's `cv2.bitwise_not()` performs this operation between the 2 image arrays where the values are inverted in an image."
   ]
  },
  {
   "cell_type": "code",
   "execution_count": 7,
   "id": "outstanding-inclusion",
   "metadata": {},
   "outputs": [
    {
     "data": {
      "text/plain": [
       "<matplotlib.image.AxesImage at 0x7fc8f1e42860>"
      ]
     },
     "execution_count": 7,
     "metadata": {},
     "output_type": "execute_result"
    },
    {
     "data": {
      "image/png": "[encoded data removed]",
      "text/plain": [
       "<Figure size 432x288 with 1 Axes>"
      ]
     },
     "metadata": {
      "needs_background": "light"
     },
     "output_type": "display_data"
    }
   ],
   "source": [
    "shapesNot = cv2.bitwise_not(shape1)\n",
    "plt.imshow(shapesNot, cmap='gray')"
   ]
  }
 ],
 "metadata": {
  "kernelspec": {
   "display_name": "Python 3",
   "language": "python",
   "name": "python3"
  },
  "language_info": {
   "codemirror_mode": {
    "name": "ipython",
    "version": 3
   },
   "file_extension": ".py",
   "mimetype": "text/x-python",
   "name": "python",
   "nbconvert_exporter": "python",
   "pygments_lexer": "ipython3",
   "version": "3.6.6"
  }
 },
 "nbformat": 4,
 "nbformat_minor": 5
}
