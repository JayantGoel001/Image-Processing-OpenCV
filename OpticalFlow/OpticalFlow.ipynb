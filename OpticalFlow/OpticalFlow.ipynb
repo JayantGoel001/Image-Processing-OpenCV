{
 "cells": [
  {
   "cell_type": "code",
   "execution_count": 1,
   "metadata": {},
   "outputs": [],
   "source": [
    "import numpy as np\n",
    "import cv2"
   ]
  },
  {
   "cell_type": "markdown",
   "metadata": {},
   "source": [
    "# Lucas Kanade Method"
   ]
  },
  {
   "cell_type": "code",
   "execution_count": 14,
   "metadata": {},
   "outputs": [],
   "source": [
    "corner_track_parms = dict(maxCorners=100, qualityLevel=0.3, minDistance=7, blockSize=7)"
   ]
  },
  {
   "cell_type": "code",
   "execution_count": 15,
   "metadata": {},
   "outputs": [],
   "source": [
    "# LUCAS-KANADE METHOD PARAMETERS\n",
    "# winSize is a trade off bcoz small win size is used to detect small motions and for large motions large win size is required.\n",
    "# maxLevel is related to image pyramid more the level is lower the resolution by 1/2^level\n",
    "# 10 is count and 0.03 is EPSILON\n",
    "\n",
    "lk_params = dict(winSize=(200,200), maxLevel=2, criteria=(cv2.TERM_CRITERIA_EPS | cv2.TERM_CRITERIA_COUNT, 50, 0.032))"
   ]
  },
  {
   "cell_type": "code",
   "execution_count": 20,
   "metadata": {},
   "outputs": [],
   "source": [
    "cap=cv2.VideoCapture('Input.mp4')\n",
    "\n",
    "ret, prev_frame = cap.read()\n",
    "prev_gray = cv2.cvtColor(prev_frame, cv2.COLOR_BGR2GRAY)\n",
    "\n",
    "# POINTS TO TRACK\n",
    "prevPoints = cv2.goodFeaturesToTrack(prev_gray, mask=None, **corner_track_parms)\n",
    "\n",
    "# Mask is for drawing lines on the video then tracking point \n",
    "mask = np.zeros_like(prev_frame)\n",
    "\n",
    "while True:\n",
    "    \n",
    "    ret, frame = cap.read()\n",
    "    if ret:\n",
    "        frame_gray = cv2.cvtColor(frame, cv2.COLOR_BGR2GRAY)\n",
    "\n",
    "        nextPoints, status, err = cv2.calcOpticalFlowPyrLK(prev_gray, frame_gray, prevPoints, None, **lk_params)\n",
    "\n",
    "    #     status = 1 is features and points found\n",
    "        good_new = nextPoints[status==1]\n",
    "        good_prev = prevPoints[status==1]\n",
    "\n",
    "        for i, (new, prev) in enumerate(zip(good_new, good_prev)):\n",
    "\n",
    "            x_new, y_new = new.ravel()\n",
    "            x_prev, y_prev = prev.ravel()\n",
    "\n",
    "            mask = cv2.line(mask, (x_new, y_new), (x_prev, y_prev), (0,255,0), 3)\n",
    "\n",
    "            frame = cv2.circle(frame, (x_new, y_new), 8, (0,0,255), -1)\n",
    "\n",
    "        img = cv2.add(frame,mask)\n",
    "\n",
    "        cv2.imshow(\"Tracking\", img)\n",
    "\n",
    "        k = cv2.waitKey(30) & 0xFF\n",
    "        if k == 27:\n",
    "            break\n",
    "\n",
    "        prev_gray = frame_gray\n",
    "        prevPoints = good_new.reshape(-1,1,2)\n",
    "    else:\n",
    "        break\n",
    "    \n",
    "    \n",
    "cv2.destroyAllWindows()\n",
    "cap.release()"
   ]
  },
  {
   "cell_type": "markdown",
   "metadata": {},
   "source": [
    "# DENSE POINT MAPPING"
   ]
  },
  {
   "cell_type": "code",
   "execution_count": 21,
   "metadata": {},
   "outputs": [],
   "source": [
    "cap=cv2.VideoCapture('Input.mp4')\n",
    "\n",
    "ret, frame1 = cap.read()\n",
    "\n",
    "prevFrame = cv2.cvtColor(frame1, cv2.COLOR_BGR2GRAY)\n",
    "\n",
    "hsv_mask = np.zeros_like(frame1)\n",
    "hsv_mask[:,:,1] = 255\n",
    "\n",
    "while True:\n",
    "    ret, frame2 = cap.read()\n",
    "    \n",
    "    if ret:\n",
    "        nextFrame = cv2.cvtColor(frame2, cv2.COLOR_BGR2GRAY)\n",
    "\n",
    "        flow = cv2.calcOpticalFlowFarneback(prevFrame, nextFrame,None, 0.5, 3, 15, 3, 5, 1.2, 0)\n",
    "\n",
    "    #   Converting flow into polar coordinates where magnitude = saturation, angle = Hue\n",
    "        mag, angle = cv2.cartToPolar(flow[:,:,0], flow[:,:,1], angleInDegrees=True)\n",
    "\n",
    "        hsv_mask[:,:,0] = angle/2   #360 deg to 180 deg\n",
    "        hsv_mask[:,:,2] = cv2.normalize(mag, None,0, 255, cv2.NORM_MINMAX)\n",
    "\n",
    "        bgr = cv2.cvtColor(hsv_mask, cv2.COLOR_HSV2BGR)\n",
    "        cv2.imshow(\"Frame\", bgr)\n",
    "\n",
    "        k = cv2.waitKey(30) & 0xFF\n",
    "        if k == 27:\n",
    "            break\n",
    "\n",
    "        prevFrame = nextFrame\n",
    "    else:\n",
    "        break\n",
    "    \n",
    "cv2.destroyAllWindows()\n",
    "cap.release()"
   ]
  },
  {
   "cell_type": "code",
   "execution_count": null,
   "metadata": {},
   "outputs": [],
   "source": []
  }
 ],
 "metadata": {
  "kernelspec": {
   "display_name": "Python 3",
   "language": "python",
   "name": "python3"
  },
  "language_info": {
   "codemirror_mode": {
    "name": "ipython",
    "version": 3
   },
   "file_extension": ".py",
   "mimetype": "text/x-python",
   "name": "python",
   "nbconvert_exporter": "python",
   "pygments_lexer": "ipython3",
   "version": "3.6.6"
  }
 },
 "nbformat": 4,
 "nbformat_minor": 2
}
