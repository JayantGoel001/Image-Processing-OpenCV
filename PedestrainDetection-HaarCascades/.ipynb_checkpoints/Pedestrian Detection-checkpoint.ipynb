{
 "cells": [
  {
   "cell_type": "markdown",
   "metadata": {},
   "source": [
    "## Pedestrain Detection on Image"
   ]
  },
  {
   "cell_type": "code",
   "execution_count": 6,
   "metadata": {},
   "outputs": [],
   "source": [
    "import cv2\n",
    "import sys\n",
    "import numpy as np\n",
    "import cv2\n",
    "import matplotlib.pyplot as plt\n",
    "\n",
    "\n",
    "#Loading the image to be tested\n",
    "test_image = cv2.imread('dataset/pedestrain.jpg')\n",
    "\n",
    "#Converting to grayscale\n",
    "test_image_gray = cv2.cvtColor(test_image, cv2.COLOR_BGR2GRAY)\n",
    "\n",
    "# Displaying the grayscale image\n",
    "#plt.imshow(test_image_gray, cmap='gray')\n",
    "#Since we know that OpenCV loads an image in BGR format, so we need to convert it into RBG format to be able to display its true colors. Let us write a small function for that.\n",
    "\n",
    "body_classifier=cv2.CascadeClassifier('dataset/haarcascade_fullbody.xml')\n",
    "#faceCascade\n",
    "\n",
    "body=body_classifier.detectMultiScale(test_image_gray,1.05, 4)\n",
    "\n",
    "# Let us print the no. of faces found\n",
    "# print('Pedestrain found: ', len(body))\n",
    "\n",
    "\n",
    "for (x,y,w,h) in body:\n",
    "     cv2.rectangle(test_image, (x, y), (x+w, y+h), (0, 255, 255), 4)\n",
    "        \n",
    "\n",
    "\n",
    "half = cv2.resize(test_image, (0,0),fx=0.4,fy=0.3,interpolation=cv2.INTER_CUBIC) \n",
    "cv2.imshow(\"Pedestrains\",half)\n",
    "\n",
    "cv2.waitKey(0)\n",
    "cv2.destroyAllWindows()\n",
    "\n",
    "\n"
   ]
  },
  {
   "cell_type": "markdown",
   "metadata": {},
   "source": [
    "<img src=\"dataset/ped_show.JPG\" />"
   ]
  },
  {
   "cell_type": "markdown",
   "metadata": {},
   "source": [
    "## Pedestrain Detection on Video"
   ]
  },
  {
   "cell_type": "code",
   "execution_count": null,
   "metadata": {},
   "outputs": [],
   "source": [
    "\n",
    "# Importing required libraries\n",
    "import time\n",
    "import numpy as np\n",
    "import cv2\n",
    "\n",
    "\n",
    "# Create our body classifier\n",
    "body_classifier = cv2.CascadeClassifier('dataset/haarcascade_fullbody.xml')\n",
    "\n",
    "\n",
    "# Initiate video capture for video file\n",
    "cap = cv2.VideoCapture('dataset/ped_data_1.mp4')\n",
    "\n",
    "\n",
    "# Loop once video is successfully loaded\n",
    "while (cap.isOpened()):\n",
    "    time.sleep(0.05)\n",
    "    \n",
    "    # Read the frame\n",
    "    ret, frame = cap.read()\n",
    "    \n",
    "    # print(frame)\n",
    "    if ret== False:\n",
    "        cap.release()\n",
    "        cv2.destroyAllWindows()\n",
    "        break\n",
    "    else:\n",
    "        \n",
    "        gray = cv2.cvtColor(frame, cv2.COLOR_BGR2GRAY)\n",
    "        \n",
    "        # Pass frame to our body classifier\n",
    "        bodies = body_classifier.detectMultiScale(gray, 1.05, 4)\n",
    "    \n",
    "        # Extract bounding boxes for any bodies identified\n",
    "        for (x,y,w,h) in bodies:\n",
    "            cv2.rectangle(frame, (x, y), (x+w, y+h), (0, 255, 255), 2)\n",
    "            cv2.imshow('Pedestrians', frame)\n",
    "            cv2.waitKey(33)\n"
   ]
  },
  {
   "cell_type": "code",
   "execution_count": 10,
   "metadata": {},
   "outputs": [
    {
     "data": {
      "text/html": [
       "\n",
       "<video width=\"500\" height=\"400\" controls>\n",
       "  <source src=\"dataset/show.mp4\" type=\"video/mp4\">\n",
       "</video>\n"
      ],
      "text/plain": [
       "<IPython.core.display.HTML object>"
      ]
     },
     "execution_count": 10,
     "metadata": {},
     "output_type": "execute_result"
    }
   ],
   "source": [
    "from IPython.display import HTML\n",
    "\n",
    "HTML(\"\"\"\n",
    "<video width=\"500\" height=\"400\" controls>\n",
    "  <source src=\"dataset/show.mp4\" type=\"video/mp4\">\n",
    "</video>\n",
    "\"\"\")"
   ]
  },
  {
   "cell_type": "markdown",
   "metadata": {},
   "source": [
    "<video controls src=\"dataset/show.mp4\" />"
   ]
  }
 ],
 "metadata": {
  "kernelspec": {
   "display_name": "Python 3",
   "language": "python",
   "name": "python3"
  },
  "language_info": {
   "codemirror_mode": {
    "name": "ipython",
    "version": 3
   },
   "file_extension": ".py",
   "mimetype": "text/x-python",
   "name": "python",
   "nbconvert_exporter": "python",
   "pygments_lexer": "ipython3",
   "version": "3.8.3"
  }
 },
 "nbformat": 4,
 "nbformat_minor": 4
}
