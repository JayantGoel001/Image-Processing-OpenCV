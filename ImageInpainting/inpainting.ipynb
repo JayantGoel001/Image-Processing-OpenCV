{
  "nbformat": 4,
  "nbformat_minor": 0,
  "metadata": {
    "colab": {
      "name": "inpainting.ipynb",
      "provenance": []
    },
    "kernelspec": {
      "name": "python3",
      "display_name": "Python 3"
    },
    "language_info": {
      "name": "python"
    }
  },
  "cells": [
    {
      "cell_type": "code",
      "metadata": {
        "colab": {
          "base_uri": "https://localhost:8080/"
        },
        "id": "PujLJTp8G19L",
        "outputId": "ce07b991-ca3b-4a1b-ce4c-3bfeafa2d300"
      },
      "source": [
        "!pip install opencv-contrib-python==4.2.0.34"
      ],
      "execution_count": 1,
      "outputs": [
        {
          "output_type": "stream",
          "text": [
            "Collecting opencv-contrib-python==4.2.0.34\n",
            "  Downloading opencv_contrib_python-4.2.0.34-cp37-cp37m-manylinux1_x86_64.whl (34.2 MB)\n",
            "\u001b[K     |████████████████████████████████| 34.2 MB 30 kB/s \n",
            "\u001b[?25hRequirement already satisfied: numpy>=1.14.5 in /usr/local/lib/python3.7/dist-packages (from opencv-contrib-python==4.2.0.34) (1.19.5)\n",
            "Installing collected packages: opencv-contrib-python\n",
            "  Attempting uninstall: opencv-contrib-python\n",
            "    Found existing installation: opencv-contrib-python 4.1.2.30\n",
            "    Uninstalling opencv-contrib-python-4.1.2.30:\n",
            "      Successfully uninstalled opencv-contrib-python-4.1.2.30\n",
            "Successfully installed opencv-contrib-python-4.2.0.34\n"
          ],
          "name": "stdout"
        }
      ]
    },
    {
      "cell_type": "code",
      "metadata": {
        "id": "YsSNqN6GG6QN"
      },
      "source": [
        "import cv2\n",
        "import matplotlib.pyplot as plt"
      ],
      "execution_count": 2,
      "outputs": []
    },
    {
      "cell_type": "code",
      "metadata": {
        "colab": {
          "base_uri": "https://localhost:8080/",
          "height": 232
        },
        "id": "qKgKug_OG8LN",
        "outputId": "020d11ec-8b7b-4bee-a394-160a1e3495ee"
      },
      "source": [
        "img = cv2.imread('image.jpeg')\n",
        "img = cv2.resize(img, None, fx=0.25, fy=0.25)\n",
        "mask = cv2.imread('mask.jpg', 0)\n",
        "print(img.shape)\n",
        "mask = cv2.resize(mask, (img.shape[1], img.shape[0]))\n",
        "_, mask = cv2.threshold(mask, 128, 255, cv2.THRESH_BINARY)\n",
        "mask1 = cv2.bitwise_not(mask)\n",
        "distort = cv2.bitwise_and(img, img, mask=mask1)\n",
        "\n",
        "output1 = cv2.inpaint(distort, mask, 3, cv2.INPAINT_NS)\n",
        "output2 = cv2.inpaint(distort, mask, 3, cv2.INPAINT_TELEA)\n",
        "\n",
        "restored1 = img.copy()\n",
        "restored2 = img.copy()\n",
        "cv2.xphoto.inpaint(distort, mask1, restored1, cv2.xphoto.INPAINT_FSR_FAST)\n",
        "cv2.xphoto.inpaint(distort, mask1, restored2, cv2.xphoto.INPAINT_FSR_BEST)\n",
        "\n",
        "dst3 = cv2.cvtColor(restored1, cv2.COLOR_BGR2RGB)\n",
        "dst4 = cv2.cvtColor(restored2, cv2.COLOR_BGR2RGB)\n",
        "dst1 = cv2.cvtColor(output1, cv2.COLOR_BGR2RGB)\n",
        "dst2 = cv2.cvtColor(output2, cv2.COLOR_BGR2RGB)\n",
        "dst = cv2.cvtColor(distort, cv2.COLOR_BGR2RGB)\n",
        "img1 = cv2.cvtColor(img, cv2.COLOR_BGR2RGB)\n",
        "\n",
        "plt.figure(figsize=(15, 20))\n",
        "plt.subplot(2, 3, 1)\n",
        "plt.imshow(img1)\n",
        "plt.subplot(2, 3, 2)\n",
        "plt.imshow(dst)\n",
        "plt.subplot(2, 3, 3)\n",
        "plt.imshow(dst1)\n",
        "plt.subplot(2, 3, 4)\n",
        "plt.imshow(dst2)\n",
        "plt.subplot(2, 3, 5)\n",
        "plt.imshow(dst3)\n",
        "plt.subplot(2, 3, 6)\n",
        "plt.imshow(dst4)"
      ],
      "execution_count": 5,
      "outputs": [
        {
          "output_type": "error",
          "ename": "AttributeError",
          "evalue": "ignored",
          "traceback": [
            "\u001b[0;31m---------------------------------------------------------------------------\u001b[0m",
            "\u001b[0;31mAttributeError\u001b[0m                            Traceback (most recent call last)",
            "\u001b[0;32m<ipython-input-5-9f8b107cd337>\u001b[0m in \u001b[0;36m<module>\u001b[0;34m()\u001b[0m\n\u001b[1;32m      3\u001b[0m \u001b[0mmask\u001b[0m \u001b[0;34m=\u001b[0m \u001b[0mcv2\u001b[0m\u001b[0;34m.\u001b[0m\u001b[0mimread\u001b[0m\u001b[0;34m(\u001b[0m\u001b[0;34m'mask.jpg'\u001b[0m\u001b[0;34m,\u001b[0m \u001b[0;36m0\u001b[0m\u001b[0;34m)\u001b[0m\u001b[0;34m\u001b[0m\u001b[0;34m\u001b[0m\u001b[0m\n\u001b[1;32m      4\u001b[0m \u001b[0;31m# print(img.shape)\u001b[0m\u001b[0;34m\u001b[0m\u001b[0;34m\u001b[0m\u001b[0;34m\u001b[0m\u001b[0m\n\u001b[0;32m----> 5\u001b[0;31m \u001b[0mmask\u001b[0m \u001b[0;34m=\u001b[0m \u001b[0mcv2\u001b[0m\u001b[0;34m.\u001b[0m\u001b[0mresize\u001b[0m\u001b[0;34m(\u001b[0m\u001b[0mmask\u001b[0m\u001b[0;34m,\u001b[0m \u001b[0;34m(\u001b[0m\u001b[0mimg\u001b[0m\u001b[0;34m.\u001b[0m\u001b[0mshape\u001b[0m\u001b[0;34m[\u001b[0m\u001b[0;36m1\u001b[0m\u001b[0;34m]\u001b[0m\u001b[0;34m,\u001b[0m \u001b[0mimg\u001b[0m\u001b[0;34m.\u001b[0m\u001b[0mshape\u001b[0m\u001b[0;34m[\u001b[0m\u001b[0;36m0\u001b[0m\u001b[0;34m]\u001b[0m\u001b[0;34m)\u001b[0m\u001b[0;34m)\u001b[0m\u001b[0;34m\u001b[0m\u001b[0;34m\u001b[0m\u001b[0m\n\u001b[0m\u001b[1;32m      6\u001b[0m \u001b[0m_\u001b[0m\u001b[0;34m,\u001b[0m \u001b[0mmask\u001b[0m \u001b[0;34m=\u001b[0m \u001b[0mcv2\u001b[0m\u001b[0;34m.\u001b[0m\u001b[0mthreshold\u001b[0m\u001b[0;34m(\u001b[0m\u001b[0mmask\u001b[0m\u001b[0;34m,\u001b[0m \u001b[0;36m128\u001b[0m\u001b[0;34m,\u001b[0m \u001b[0;36m255\u001b[0m\u001b[0;34m,\u001b[0m \u001b[0mcv2\u001b[0m\u001b[0;34m.\u001b[0m\u001b[0mTHRESH_BINARY\u001b[0m\u001b[0;34m)\u001b[0m\u001b[0;34m\u001b[0m\u001b[0;34m\u001b[0m\u001b[0m\n\u001b[1;32m      7\u001b[0m \u001b[0mmask1\u001b[0m \u001b[0;34m=\u001b[0m \u001b[0mcv2\u001b[0m\u001b[0;34m.\u001b[0m\u001b[0mbitwise_not\u001b[0m\u001b[0;34m(\u001b[0m\u001b[0mmask\u001b[0m\u001b[0;34m)\u001b[0m\u001b[0;34m\u001b[0m\u001b[0;34m\u001b[0m\u001b[0m\n",
            "\u001b[0;31mAttributeError\u001b[0m: 'NoneType' object has no attribute 'shape'"
          ]
        }
      ]
    },
    {
      "cell_type": "code",
      "metadata": {
        "id": "0xgTzTwLG-rG"
      },
      "source": [
        "cv2.imwrite('res/img1.jpg', img)\n",
        "cv2.imwrite('res/distort1.jpg', distort)\n",
        "cv2.imwrite('res/res11.jpg', output1)\n",
        "cv2.imwrite('res/res12.jpg', output2)\n",
        "cv2.imwrite('res/res13.jpg', restored1)\n",
        "cv2.imwrite('res/res14.jpg', restored2)"
      ],
      "execution_count": null,
      "outputs": []
    },
    {
      "cell_type": "code",
      "metadata": {
        "id": "LJuUS1vWHA4K"
      },
      "source": [
        ""
      ],
      "execution_count": null,
      "outputs": []
    }
  ]
}