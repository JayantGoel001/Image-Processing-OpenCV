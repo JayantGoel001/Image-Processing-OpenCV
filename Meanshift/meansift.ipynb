{
 "cells": [
  {
   "cell_type": "markdown",
   "metadata": {},
   "source": [
    "# Import Modules"
   ]
  },
  {
   "cell_type": "code",
   "execution_count": 1,
   "metadata": {},
   "outputs": [],
   "source": [
    "import numpy as np\n",
    "import cv2"
   ]
  },
  {
   "cell_type": "markdown",
   "metadata": {},
   "source": [
    "# Load the video"
   ]
  },
  {
   "cell_type": "code",
   "execution_count": 2,
   "metadata": {},
   "outputs": [],
   "source": [
    "cap= cv2.VideoCapture(\"video.mp4\")"
   ]
  },
  {
   "cell_type": "markdown",
   "metadata": {},
   "source": [
    "# Take first frame of the video"
   ]
  },
  {
   "cell_type": "code",
   "execution_count": 3,
   "metadata": {},
   "outputs": [],
   "source": [
    "ret, frame = cap.read()"
   ]
  },
  {
   "cell_type": "markdown",
   "metadata": {},
   "source": [
    "# Setup initial location of window"
   ]
  },
  {
   "cell_type": "code",
   "execution_count": 4,
   "metadata": {},
   "outputs": [],
   "source": [
    "x, y, width, height = 300, 200, 100, 50\n",
    "track_window = (x, y ,width, height)"
   ]
  },
  {
   "cell_type": "markdown",
   "metadata": {},
   "source": [
    "# Setup the ROI for tracking"
   ]
  },
  {
   "cell_type": "code",
   "execution_count": 5,
   "metadata": {},
   "outputs": [],
   "source": [
    "roi = frame[y:y+height, x : x+width]\n",
    "hsv_roi= cv2.cvtColor(roi,cv2.COLOR_BGR2HSV)"
   ]
  },
  {
   "cell_type": "markdown",
   "metadata": {},
   "source": [
    "# Create the mask"
   ]
  },
  {
   "cell_type": "code",
   "execution_count": 6,
   "metadata": {},
   "outputs": [
    {
     "data": {
      "text/plain": [
       "array([[  6.8     ],\n",
       "       [  0.      ],\n",
       "       [  0.      ],\n",
       "       [  3.4     ],\n",
       "       [  0.      ],\n",
       "       [  0.      ],\n",
       "       [  0.      ],\n",
       "       [  0.      ],\n",
       "       [  0.      ],\n",
       "       [  0.      ],\n",
       "       [  0.      ],\n",
       "       [  0.      ],\n",
       "       [  0.      ],\n",
       "       [  0.      ],\n",
       "       [  0.      ],\n",
       "       [  0.      ],\n",
       "       [  0.      ],\n",
       "       [  0.      ],\n",
       "       [  0.      ],\n",
       "       [  0.      ],\n",
       "       [  0.      ],\n",
       "       [  0.      ],\n",
       "       [  0.      ],\n",
       "       [  0.      ],\n",
       "       [  0.      ],\n",
       "       [  0.      ],\n",
       "       [  0.      ],\n",
       "       [  0.      ],\n",
       "       [  0.      ],\n",
       "       [  0.      ],\n",
       "       [  0.      ],\n",
       "       [  0.      ],\n",
       "       [  0.      ],\n",
       "       [  0.      ],\n",
       "       [  0.      ],\n",
       "       [  0.      ],\n",
       "       [  0.      ],\n",
       "       [  0.      ],\n",
       "       [  0.      ],\n",
       "       [  0.      ],\n",
       "       [  0.      ],\n",
       "       [  0.      ],\n",
       "       [  0.      ],\n",
       "       [  0.      ],\n",
       "       [  0.      ],\n",
       "       [  0.      ],\n",
       "       [  0.      ],\n",
       "       [  0.      ],\n",
       "       [  0.      ],\n",
       "       [  0.      ],\n",
       "       [  0.      ],\n",
       "       [  0.      ],\n",
       "       [  0.      ],\n",
       "       [  0.      ],\n",
       "       [  0.      ],\n",
       "       [  0.      ],\n",
       "       [  0.      ],\n",
       "       [  0.      ],\n",
       "       [  0.      ],\n",
       "       [  0.      ],\n",
       "       [  0.      ],\n",
       "       [  0.      ],\n",
       "       [  0.      ],\n",
       "       [  0.      ],\n",
       "       [  0.      ],\n",
       "       [  0.      ],\n",
       "       [  0.      ],\n",
       "       [  0.      ],\n",
       "       [  0.      ],\n",
       "       [  0.      ],\n",
       "       [  0.      ],\n",
       "       [  0.      ],\n",
       "       [  0.      ],\n",
       "       [  0.      ],\n",
       "       [  0.      ],\n",
       "       [  0.      ],\n",
       "       [  0.      ],\n",
       "       [  0.      ],\n",
       "       [  0.      ],\n",
       "       [  0.      ],\n",
       "       [  0.      ],\n",
       "       [  0.      ],\n",
       "       [  0.      ],\n",
       "       [  0.      ],\n",
       "       [  0.      ],\n",
       "       [  0.      ],\n",
       "       [  0.      ],\n",
       "       [  0.      ],\n",
       "       [  0.      ],\n",
       "       [  0.      ],\n",
       "       [  0.      ],\n",
       "       [  0.      ],\n",
       "       [  0.      ],\n",
       "       [  0.      ],\n",
       "       [  0.      ],\n",
       "       [  0.      ],\n",
       "       [  0.      ],\n",
       "       [  0.      ],\n",
       "       [  0.      ],\n",
       "       [255.      ],\n",
       "       [  0.      ],\n",
       "       [ 17.      ],\n",
       "       [ 10.200001],\n",
       "       [ 61.2     ],\n",
       "       [ 34.      ],\n",
       "       [  0.      ],\n",
       "       [125.8     ],\n",
       "       [  0.      ],\n",
       "       [ 61.2     ],\n",
       "       [  0.      ],\n",
       "       [ 61.2     ],\n",
       "       [  0.      ],\n",
       "       [  0.      ],\n",
       "       [  0.      ],\n",
       "       [  0.      ],\n",
       "       [  0.      ],\n",
       "       [  0.      ],\n",
       "       [  0.      ],\n",
       "       [  0.      ],\n",
       "       [  0.      ],\n",
       "       [  0.      ],\n",
       "       [  0.      ],\n",
       "       [  0.      ],\n",
       "       [  0.      ],\n",
       "       [  0.      ],\n",
       "       [  0.      ],\n",
       "       [  0.      ],\n",
       "       [  0.      ],\n",
       "       [  0.      ],\n",
       "       [  0.      ],\n",
       "       [  0.      ],\n",
       "       [  0.      ],\n",
       "       [  0.      ],\n",
       "       [  0.      ],\n",
       "       [  0.      ],\n",
       "       [  0.      ],\n",
       "       [  0.      ],\n",
       "       [  0.      ],\n",
       "       [  0.      ],\n",
       "       [  0.      ],\n",
       "       [  0.      ],\n",
       "       [  0.      ],\n",
       "       [  0.      ],\n",
       "       [  0.      ],\n",
       "       [  0.      ],\n",
       "       [  0.      ],\n",
       "       [  0.      ],\n",
       "       [  0.      ],\n",
       "       [  0.      ],\n",
       "       [  0.      ],\n",
       "       [  0.      ],\n",
       "       [  0.      ],\n",
       "       [  0.      ],\n",
       "       [  0.      ],\n",
       "       [  0.      ],\n",
       "       [  0.      ],\n",
       "       [  0.      ],\n",
       "       [  0.      ],\n",
       "       [  0.      ],\n",
       "       [  0.      ],\n",
       "       [  0.      ],\n",
       "       [  0.      ],\n",
       "       [  0.      ],\n",
       "       [  0.      ],\n",
       "       [  0.      ],\n",
       "       [  0.      ],\n",
       "       [  0.      ],\n",
       "       [  0.      ],\n",
       "       [  0.      ],\n",
       "       [  0.      ],\n",
       "       [  0.      ],\n",
       "       [  0.      ],\n",
       "       [  0.      ],\n",
       "       [  0.      ],\n",
       "       [  6.8     ],\n",
       "       [  0.      ],\n",
       "       [  0.      ],\n",
       "       [ 10.200001],\n",
       "       [  0.      ],\n",
       "       [ 13.6     ]], dtype=float32)"
      ]
     },
     "execution_count": 6,
     "metadata": {},
     "output_type": "execute_result"
    }
   ],
   "source": [
    "mask = cv2.inRange(hsv_roi, np.array((0., 60., 32.)), np.array((180., 255., 255)))\n",
    "roi_hist = cv2.calcHist([hsv_roi], [0], mask, [180], [0, 180])\n",
    "cv2.normalize(roi_hist, roi_hist, 0, 255,cv2.NORM_MINMAX)"
   ]
  },
  {
   "cell_type": "markdown",
   "metadata": {},
   "source": [
    "# Setup the termination criteria"
   ]
  },
  {
   "cell_type": "code",
   "execution_count": 7,
   "metadata": {},
   "outputs": [],
   "source": [
    "term_crit = ( cv2.TERM_CRITERIA_EPS | cv2.TERM_CRITERIA_COUNT, 10, 1)"
   ]
  },
  {
   "cell_type": "markdown",
   "metadata": {},
   "source": [
    "# Display the ROI and final real-time video"
   ]
  },
  {
   "cell_type": "code",
   "execution_count": 8,
   "metadata": {},
   "outputs": [],
   "source": [
    "cv2.imshow('roi',roi)\n",
    "while(1):\n",
    "    ret, frame = cap.read()\n",
    "    if ret == True:\n",
    "\n",
    "        hsv = cv2.cvtColor(frame, cv2.COLOR_BGR2HSV)\n",
    "        dst = cv2.calcBackProject([hsv], [0], roi_hist, [0, 180], 1)\n",
    "        \n",
    "        # apply meanshift to get the new location\n",
    "        ret, track_window = cv2.meanShift(dst, track_window, term_crit)\n",
    "        \n",
    "        # Draw it on image\n",
    "        x,y,w,h = track_window\n",
    "        final_image = cv2.rectangle(frame, (x,y), (x+w, y+h), 255, 3)\n",
    "        cv2.imshow('final_image',final_image)\n",
    "        k = cv2.waitKey(30) & 0xff\n",
    "        if k == 27:\n",
    "            break\n",
    "    else:\n",
    "        break"
   ]
  }
 ],
 "metadata": {
  "kernelspec": {
   "display_name": "Python 3",
   "language": "python",
   "name": "python3"
  },
  "language_info": {
   "codemirror_mode": {
    "name": "ipython",
    "version": 3
   },
   "file_extension": ".py",
   "mimetype": "text/x-python",
   "name": "python",
   "nbconvert_exporter": "python",
   "pygments_lexer": "ipython3",
   "version": "3.7.4"
  }
 },
 "nbformat": 4,
 "nbformat_minor": 2
}
